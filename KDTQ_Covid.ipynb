{
 "cells": [
  {
   "cell_type": "markdown",
   "id": "e62fd449-9885-4e9e-ba7b-f686f1f5ce06",
   "metadata": {},
   "source": [
    "# 0. Khai báo thư viện"
   ]
  },
  {
   "cell_type": "code",
   "execution_count": 1,
   "id": "7b0d33f6-9eb4-4260-a182-f1d4d062b44c",
   "metadata": {},
   "outputs": [],
   "source": [
    "import pandas as pd\n",
    "from scipy import stats"
   ]
  },
  {
   "cell_type": "markdown",
   "id": "0e72a18e-b437-48c1-bdc8-8522e05f8467",
   "metadata": {},
   "source": [
    "# 1. Đọc dữ liệu từ file CSV "
   ]
  },
  {
   "cell_type": "code",
   "execution_count": 2,
   "id": "b48e7373-10e5-4149-aaad-bcf80dff5bf8",
   "metadata": {},
   "outputs": [
    {
     "data": {
      "text/html": [
       "<div>\n",
       "<style scoped>\n",
       "    .dataframe tbody tr th:only-of-type {\n",
       "        vertical-align: middle;\n",
       "    }\n",
       "\n",
       "    .dataframe tbody tr th {\n",
       "        vertical-align: top;\n",
       "    }\n",
       "\n",
       "    .dataframe thead th {\n",
       "        text-align: right;\n",
       "    }\n",
       "</style>\n",
       "<table border=\"1\" class=\"dataframe\">\n",
       "  <thead>\n",
       "    <tr style=\"text-align: right;\">\n",
       "      <th></th>\n",
       "      <th>country</th>\n",
       "      <th>continent</th>\n",
       "      <th>date</th>\n",
       "      <th>day</th>\n",
       "      <th>month</th>\n",
       "      <th>year</th>\n",
       "      <th>cases</th>\n",
       "      <th>deaths</th>\n",
       "      <th>country_code</th>\n",
       "      <th>population</th>\n",
       "    </tr>\n",
       "  </thead>\n",
       "  <tbody>\n",
       "    <tr>\n",
       "      <th>0</th>\n",
       "      <td>Afghanistan</td>\n",
       "      <td>Asia</td>\n",
       "      <td>2020-04-12</td>\n",
       "      <td>12</td>\n",
       "      <td>4</td>\n",
       "      <td>2020</td>\n",
       "      <td>34</td>\n",
       "      <td>3</td>\n",
       "      <td>AFG</td>\n",
       "      <td>37172386.0</td>\n",
       "    </tr>\n",
       "    <tr>\n",
       "      <th>1</th>\n",
       "      <td>Albania</td>\n",
       "      <td>Europe</td>\n",
       "      <td>2020-04-12</td>\n",
       "      <td>12</td>\n",
       "      <td>4</td>\n",
       "      <td>2020</td>\n",
       "      <td>17</td>\n",
       "      <td>0</td>\n",
       "      <td>ALB</td>\n",
       "      <td>2866376.0</td>\n",
       "    </tr>\n",
       "    <tr>\n",
       "      <th>2</th>\n",
       "      <td>Algeria</td>\n",
       "      <td>Africa</td>\n",
       "      <td>2020-04-12</td>\n",
       "      <td>12</td>\n",
       "      <td>4</td>\n",
       "      <td>2020</td>\n",
       "      <td>64</td>\n",
       "      <td>19</td>\n",
       "      <td>DZA</td>\n",
       "      <td>42228429.0</td>\n",
       "    </tr>\n",
       "    <tr>\n",
       "      <th>3</th>\n",
       "      <td>Andorra</td>\n",
       "      <td>Europe</td>\n",
       "      <td>2020-04-12</td>\n",
       "      <td>12</td>\n",
       "      <td>4</td>\n",
       "      <td>2020</td>\n",
       "      <td>21</td>\n",
       "      <td>2</td>\n",
       "      <td>AND</td>\n",
       "      <td>77006.0</td>\n",
       "    </tr>\n",
       "    <tr>\n",
       "      <th>4</th>\n",
       "      <td>Angola</td>\n",
       "      <td>Africa</td>\n",
       "      <td>2020-04-12</td>\n",
       "      <td>12</td>\n",
       "      <td>4</td>\n",
       "      <td>2020</td>\n",
       "      <td>0</td>\n",
       "      <td>0</td>\n",
       "      <td>AGO</td>\n",
       "      <td>30809762.0</td>\n",
       "    </tr>\n",
       "  </tbody>\n",
       "</table>\n",
       "</div>"
      ],
      "text/plain": [
       "       country continent        date  day  month  year  cases  deaths  \\\n",
       "0  Afghanistan      Asia  2020-04-12   12      4  2020     34       3   \n",
       "1      Albania    Europe  2020-04-12   12      4  2020     17       0   \n",
       "2      Algeria    Africa  2020-04-12   12      4  2020     64      19   \n",
       "3      Andorra    Europe  2020-04-12   12      4  2020     21       2   \n",
       "4       Angola    Africa  2020-04-12   12      4  2020      0       0   \n",
       "\n",
       "  country_code  population  \n",
       "0          AFG  37172386.0  \n",
       "1          ALB   2866376.0  \n",
       "2          DZA  42228429.0  \n",
       "3          AND     77006.0  \n",
       "4          AGO  30809762.0  "
      ]
     },
     "execution_count": 2,
     "metadata": {},
     "output_type": "execute_result"
    }
   ],
   "source": [
    "df = pd.read_csv(\"https://s3.ap-southeast-1.amazonaws.com/learn.codegym.vn/media/public/2021/12/31020712/subset-covid-data.csv\", encoding = \"ISO-8859-1\")\n",
    "df.head()"
   ]
  },
  {
   "cell_type": "code",
   "execution_count": 3,
   "id": "80e2c0ad-ad6d-4781-8323-ca9e99919475",
   "metadata": {},
   "outputs": [
    {
     "name": "stdout",
     "output_type": "stream",
     "text": [
      "<class 'pandas.core.frame.DataFrame'>\n",
      "RangeIndex: 206 entries, 0 to 205\n",
      "Data columns (total 10 columns):\n",
      " #   Column        Non-Null Count  Dtype  \n",
      "---  ------        --------------  -----  \n",
      " 0   country       206 non-null    object \n",
      " 1   continent     206 non-null    object \n",
      " 2   date          206 non-null    object \n",
      " 3   day           206 non-null    int64  \n",
      " 4   month         206 non-null    int64  \n",
      " 5   year          206 non-null    int64  \n",
      " 6   cases         206 non-null    int64  \n",
      " 7   deaths        206 non-null    int64  \n",
      " 8   country_code  202 non-null    object \n",
      " 9   population    202 non-null    float64\n",
      "dtypes: float64(1), int64(5), object(4)\n",
      "memory usage: 16.2+ KB\n"
     ]
    }
   ],
   "source": [
    "df.info()"
   ]
  },
  {
   "cell_type": "markdown",
   "id": "739d2614-6682-4c85-a01f-3e03e34f656c",
   "metadata": {},
   "source": [
    "# 2. Có mối tương quan nào giữa dân số và số ca nhiễm bệnh hay không"
   ]
  },
  {
   "cell_type": "markdown",
   "id": "903e6909-5cbf-4066-828f-e162da2a3b47",
   "metadata": {},
   "source": [
    "- Giả thuyết không: Không có mối tương quan tuyến tính giữa hai biến\n",
    "- Giả thuyết đối: Không có mối tương quan tuyến tính giữa hai biến"
   ]
  },
  {
   "cell_type": "code",
   "execution_count": 4,
   "id": "f2f2fb6a-2746-4212-a736-6b8c27cef362",
   "metadata": {},
   "outputs": [],
   "source": [
    "df1 = df.loc[:, [\"population\", \"cases\"]]\n",
    "df1.dropna(inplace = True)"
   ]
  },
  {
   "cell_type": "code",
   "execution_count": 5,
   "id": "17ec5f90-9367-495d-b161-7b2577e7259e",
   "metadata": {},
   "outputs": [
    {
     "data": {
      "text/plain": [
       "(0.17553926594294003, 0.01246031070420893)"
      ]
     },
     "execution_count": 5,
     "metadata": {},
     "output_type": "execute_result"
    }
   ],
   "source": [
    "stats.pearsonr(df1.cases, df1.population)"
   ]
  },
  {
   "cell_type": "markdown",
   "id": "768abb66-3c89-4021-8461-fa56f9529286",
   "metadata": {},
   "source": [
    "Nhận xét: do pvalue = 0.012 < 0.05 nên bác bỏ giải thuyết không, chấp nhận giải thuyết đối"
   ]
  },
  {
   "cell_type": "markdown",
   "id": "bbb95747-8d35-47e9-84c6-ccc55c325a73",
   "metadata": {},
   "source": [
    "# 3. Có mối tương quan nào giữa số ca mắc (cases) và số ca tử vong (deaths) hay không"
   ]
  },
  {
   "cell_type": "markdown",
   "id": "10af08c2-4144-4375-bb5d-96ab4a0e1f4e",
   "metadata": {},
   "source": [
    "Do số ca nhiễm (cases) và số ca tử vong (deaths) đều là thuộc tính định lượng nên sử dụng kiểm định pearson\n",
    "- Giả thuyết không: Không có mối tương quan tuyến tính giữa hai biến\n",
    "- Giả thuyết đối: Không có mối tương quan tuyến tính giữa hai biến"
   ]
  },
  {
   "cell_type": "code",
   "execution_count": 6,
   "id": "7728dce3-9c3f-46e8-8ad0-be6d3dd8222a",
   "metadata": {},
   "outputs": [],
   "source": [
    "df2 = df.loc[:, [\"cases\", \"deaths\"]]\n",
    "df2.dropna(inplace = True)"
   ]
  },
  {
   "cell_type": "code",
   "execution_count": 7,
   "id": "6c91a7c5-59fe-4f82-be08-93076471751a",
   "metadata": {},
   "outputs": [
    {
     "data": {
      "text/plain": [
       "(0.9432201374746727, 1.3451948745846463e-99)"
      ]
     },
     "execution_count": 7,
     "metadata": {},
     "output_type": "execute_result"
    }
   ],
   "source": [
    "stats.pearsonr(df2.cases, df2.deaths)"
   ]
  },
  {
   "cell_type": "markdown",
   "id": "b64d7dff-0c1c-4116-944f-620ffd7bcea8",
   "metadata": {},
   "source": [
    "Nhận xét: do pvalue ~ 0 < 0.05 nên bác bỏ giả thuyết không, chấp nhận giả thuyết đối"
   ]
  },
  {
   "cell_type": "markdown",
   "id": "c4ca7533-2cb3-4ea1-b6d0-658f15f9e810",
   "metadata": {},
   "source": [
    "# 4. Hãy tiến hành rời rạc hóa thuộc tính population thành các nhóm theo thứ tự tăng dần đặt tên là biến population_ordinal:\n",
    "- 1: nếu population < tứ phân vị thứ nhất\n",
    "- 2: Population nằm trong khoảng từ tứ phân vị thứ nhất tới tứ phân vị thứ 2\n",
    "- 3: nếu population nằm trong khoảng từ tứ phân vị thứ 2 tới thứ 3\n",
    "- 4: nếu population >= tứ phân vị thứ 3\n",
    "Hãy kiểm tra mối tương quan giữa thuộc tính population_ordinaly với số ca nhiễm bệnh"
   ]
  },
  {
   "cell_type": "code",
   "execution_count": 8,
   "id": "e42374b5-7211-4a89-9228-b2800cf42aea",
   "metadata": {},
   "outputs": [],
   "source": [
    "# Tiến hành tính các khoảng tứ phân vị của population\n",
    "q1, q2, q3 = df1.population.quantile(0.25), df1.population.quantile(0.5), df1.population.quantile(0.75)"
   ]
  },
  {
   "cell_type": "code",
   "execution_count": 9,
   "id": "6c99b20a-2038-4af6-9368-378cb28dba78",
   "metadata": {},
   "outputs": [
    {
     "data": {
      "text/html": [
       "<div>\n",
       "<style scoped>\n",
       "    .dataframe tbody tr th:only-of-type {\n",
       "        vertical-align: middle;\n",
       "    }\n",
       "\n",
       "    .dataframe tbody tr th {\n",
       "        vertical-align: top;\n",
       "    }\n",
       "\n",
       "    .dataframe thead th {\n",
       "        text-align: right;\n",
       "    }\n",
       "</style>\n",
       "<table border=\"1\" class=\"dataframe\">\n",
       "  <thead>\n",
       "    <tr style=\"text-align: right;\">\n",
       "      <th></th>\n",
       "      <th>population</th>\n",
       "      <th>cases</th>\n",
       "      <th>population_ordinal</th>\n",
       "    </tr>\n",
       "  </thead>\n",
       "  <tbody>\n",
       "    <tr>\n",
       "      <th>0</th>\n",
       "      <td>37172386.0</td>\n",
       "      <td>34</td>\n",
       "      <td>4</td>\n",
       "    </tr>\n",
       "    <tr>\n",
       "      <th>1</th>\n",
       "      <td>2866376.0</td>\n",
       "      <td>17</td>\n",
       "      <td>2</td>\n",
       "    </tr>\n",
       "    <tr>\n",
       "      <th>2</th>\n",
       "      <td>42228429.0</td>\n",
       "      <td>64</td>\n",
       "      <td>4</td>\n",
       "    </tr>\n",
       "    <tr>\n",
       "      <th>3</th>\n",
       "      <td>77006.0</td>\n",
       "      <td>21</td>\n",
       "      <td>1</td>\n",
       "    </tr>\n",
       "    <tr>\n",
       "      <th>4</th>\n",
       "      <td>30809762.0</td>\n",
       "      <td>0</td>\n",
       "      <td>4</td>\n",
       "    </tr>\n",
       "  </tbody>\n",
       "</table>\n",
       "</div>"
      ],
      "text/plain": [
       "   population  cases  population_ordinal\n",
       "0  37172386.0     34                   4\n",
       "1   2866376.0     17                   2\n",
       "2  42228429.0     64                   4\n",
       "3     77006.0     21                   1\n",
       "4  30809762.0      0                   4"
      ]
     },
     "execution_count": 9,
     "metadata": {},
     "output_type": "execute_result"
    }
   ],
   "source": [
    "# Tiến hành biến đổi population\n",
    "def population_order(population):\n",
    "    if population < q1:\n",
    "        return 1\n",
    "    elif q1 <= population < q2:\n",
    "        return 2\n",
    "    elif q2 <= population < q3:\n",
    "        return 3\n",
    "    else:\n",
    "        return 4\n",
    "\n",
    "df1[\"population_ordinal\"] = df1.population.apply(population_order)\n",
    "df1.head()"
   ]
  },
  {
   "cell_type": "markdown",
   "id": "0d938e90-5c54-47fb-8b98-2a56025b813a",
   "metadata": {},
   "source": [
    "Tiến hành kiểm định: Do population_ordinal là dữ liệu kiểu thứ bậc nên sử dụng kiểm định spearman để kiểm định tương quan giữa population_ordinal và cases\n",
    "- Giả thuyết không: Giữa population_ordinal và case không có tương quan\n",
    "- Giả thuyết đối: Giữa population_ordinal và case có tương quan"
   ]
  },
  {
   "cell_type": "code",
   "execution_count": 10,
   "id": "0f586c80-4019-4a03-a22f-ca7378b9b7cd",
   "metadata": {},
   "outputs": [
    {
     "data": {
      "text/plain": [
       "SpearmanrResult(correlation=0.49498466493711596, pvalue=6.982786622314858e-14)"
      ]
     },
     "execution_count": 10,
     "metadata": {},
     "output_type": "execute_result"
    }
   ],
   "source": [
    "stats.spearmanr(df1.cases, df1.population_ordinal)"
   ]
  },
  {
   "cell_type": "code",
   "execution_count": null,
   "id": "305daf9b-d9a5-474a-b5f6-7ffee20736c4",
   "metadata": {},
   "outputs": [],
   "source": []
  }
 ],
 "metadata": {
  "kernelspec": {
   "display_name": "Python 3 (ipykernel)",
   "language": "python",
   "name": "python3"
  },
  "language_info": {
   "codemirror_mode": {
    "name": "ipython",
    "version": 3
   },
   "file_extension": ".py",
   "mimetype": "text/x-python",
   "name": "python",
   "nbconvert_exporter": "python",
   "pygments_lexer": "ipython3",
   "version": "3.10.1"
  }
 },
 "nbformat": 4,
 "nbformat_minor": 5
}
